{
 "cells": [
  {
   "cell_type": "code",
   "execution_count": 4,
   "id": "00b88fc7",
   "metadata": {},
   "outputs": [
    {
     "data": {
      "text/plain": [
       "'1.9.0'"
      ]
     },
     "execution_count": 4,
     "metadata": {},
     "output_type": "execute_result"
    }
   ],
   "source": [
    "import torch\n",
    "import torch.nn as nn\n",
    "import torch.optim as optim\n",
    "from torch.optim import lr_scheduler\n",
    "from torch.utils.data import Dataset\n",
    "from torch.utils.data import DataLoader\n",
    "import torch.nn.functional as F\n",
    "\n",
    "import numpy as np\n",
    "\n",
    "import torchvision\n",
    "from torchvision import datasets, models, transforms\n",
    "\n",
    "\n",
    "import time\n",
    "import copy\n",
    "import math\n",
    "import matplotlib.pyplot as plt\n",
    "import os"
   ]
  },
  {
   "cell_type": "code",
   "execution_count": 3,
   "id": "7909ea9b",
   "metadata": {},
   "outputs": [
    {
     "data": {
      "text/plain": [
       "<torch._C.Generator at 0x38c52d3cf0>"
      ]
     },
     "execution_count": 3,
     "metadata": {},
     "output_type": "execute_result"
    }
   ],
   "source": [
    "torch.manual_seed(123)"
   ]
  },
  {
   "cell_type": "code",
   "execution_count": 177,
   "id": "25e495c5",
   "metadata": {},
   "outputs": [],
   "source": [
    "args = {\n",
    "    \n",
    "}"
   ]
  },
  {
   "cell_type": "code",
   "execution_count": 178,
   "id": "76b1541b",
   "metadata": {},
   "outputs": [
    {
     "name": "stdout",
     "output_type": "stream",
     "text": [
      "cpu\n"
     ]
    }
   ],
   "source": [
    "if torch.cuda.is_available():\n",
    "    args['device'] = torch.device('cuda')\n",
    "else:\n",
    "    args['device'] = torch.device('cpu')\n",
    "    \n",
    "print(args['device'])\n"
   ]
  },
  {
   "cell_type": "code",
   "execution_count": 179,
   "id": "5d5c6b2c",
   "metadata": {},
   "outputs": [],
   "source": [
    "#base_dir = \"..\\Keras\\ProjetoCatsDogs\\cats_and_dogs\"\n",
    "base_dir = \"..\\Keras\\cats_and_dogs_filtered\"\n",
    "train_dir = os.path.join(base_dir, \"train\")\n",
    "validation_dir = os.path.join(base_dir, \"validation\")\n",
    "\n",
    "tr_dir_cats = os.path.join(train_dir, \"cats\")\n",
    "tr_dir_dogs = os.path.join(train_dir, \"dogs\")\n",
    "val_dir_cats = os.path.join(validation_dir, \"cats\")\n",
    "val_dir_dogs = os.path.join(validation_dir, \"dogs\")\n",
    "\n",
    "num_tr_cats = len(os.listdir(tr_dir_cats))\n",
    "num_tr_dogs = len(os.listdir(tr_dir_dogs))\n",
    "num_val_cats = len(os.listdir(val_dir_cats))\n",
    "num_val_dogs = len(os.listdir(val_dir_dogs))\n",
    "\n",
    "num_tr = num_tr_cats + num_tr_dogs\n",
    "num_val = num_val_cats + num_val_dogs"
   ]
  },
  {
   "cell_type": "code",
   "execution_count": 180,
   "id": "3c6098c1",
   "metadata": {
    "scrolled": true
   },
   "outputs": [
    {
     "data": {
      "text/plain": [
       "(1000, 1000, 500, 500)"
      ]
     },
     "execution_count": 180,
     "metadata": {},
     "output_type": "execute_result"
    }
   ],
   "source": [
    "num_tr_cats, num_tr_dogs, num_val_cats, num_val_dogs"
   ]
  },
  {
   "cell_type": "code",
   "execution_count": 181,
   "id": "4066ffa7",
   "metadata": {},
   "outputs": [],
   "source": [
    "transform = transforms.Compose([\n",
    "    transforms.Resize(255),\n",
    "    transforms.CenterCrop(224),\n",
    "    transforms.ToTensor(),\n",
    "    transforms.Normalize([0.5], [0.5])\n",
    "])\n"
   ]
  },
  {
   "cell_type": "code",
   "execution_count": 182,
   "id": "a68a2aef",
   "metadata": {},
   "outputs": [],
   "source": [
    "dataset_train = datasets.ImageFolder(train_dir, transform=transform)"
   ]
  },
  {
   "cell_type": "code",
   "execution_count": 183,
   "id": "91a3b25d",
   "metadata": {
    "scrolled": true
   },
   "outputs": [
    {
     "data": {
      "text/plain": [
       "(['cats', 'dogs'], 2000)"
      ]
     },
     "execution_count": 183,
     "metadata": {},
     "output_type": "execute_result"
    }
   ],
   "source": [
    "dataset_train.classes, len(dataset_train.imgs)"
   ]
  },
  {
   "cell_type": "code",
   "execution_count": 184,
   "id": "7c9a245a",
   "metadata": {},
   "outputs": [],
   "source": [
    "dataset_val = datasets.ImageFolder(validation_dir, transform=transform)"
   ]
  },
  {
   "cell_type": "code",
   "execution_count": 185,
   "id": "3cdab767",
   "metadata": {},
   "outputs": [
    {
     "data": {
      "text/plain": [
       "(['cats', 'dogs'], 1000)"
      ]
     },
     "execution_count": 185,
     "metadata": {},
     "output_type": "execute_result"
    }
   ],
   "source": [
    "dataset_val.classes, len(dataset_val.imgs)"
   ]
  },
  {
   "cell_type": "code",
   "execution_count": 186,
   "id": "46108c22",
   "metadata": {},
   "outputs": [],
   "source": [
    "batch_size = 64"
   ]
  },
  {
   "cell_type": "code",
   "execution_count": 187,
   "id": "054b8814",
   "metadata": {},
   "outputs": [],
   "source": [
    "train_set = DataLoader(dataset=dataset_train, shuffle=True, batch_size=batch_size)"
   ]
  },
  {
   "cell_type": "code",
   "execution_count": 188,
   "id": "7b95eda0",
   "metadata": {},
   "outputs": [],
   "source": [
    "val_set = DataLoader(dataset=dataset_val, shuffle=False, batch_size=batch_size)"
   ]
  },
  {
   "cell_type": "code",
   "execution_count": 189,
   "id": "fa05e4b7",
   "metadata": {},
   "outputs": [
    {
     "name": "stdout",
     "output_type": "stream",
     "text": [
      "Model(\n",
      "  (pool): MaxPool2d(kernel_size=2, stride=2, padding=0, dilation=1, ceil_mode=False)\n",
      "  (dropout): Dropout(p=0.2, inplace=False)\n",
      "  (conv1): Conv2d(3, 6, kernel_size=(4, 4), stride=(1, 1))\n",
      "  (conv2): Conv2d(6, 12, kernel_size=(4, 4), stride=(1, 1))\n",
      "  (conv3): Conv2d(12, 14, kernel_size=(4, 4), stride=(1, 1))\n",
      "  (conv4): Conv2d(14, 16, kernel_size=(4, 4), stride=(1, 1))\n",
      "  (conv5): Conv2d(16, 20, kernel_size=(4, 4), stride=(1, 1))\n",
      "  (fc1): Linear(in_features=320, out_features=250, bias=True)\n",
      "  (fc2): Linear(in_features=250, out_features=200, bias=True)\n",
      "  (fc3): Linear(in_features=200, out_features=50, bias=True)\n",
      "  (fc4): Linear(in_features=50, out_features=10, bias=True)\n",
      "  (fc5): Linear(in_features=10, out_features=2, bias=True)\n",
      ")\n"
     ]
    }
   ],
   "source": [
    "class Model(torch.nn.Module):\n",
    "    def __init__(self):\n",
    "        super(Model, self).__init__()\n",
    "        \n",
    "        self.pool = nn.MaxPool2d(2,2)\n",
    "        self.dropout = nn.Dropout(p=0.2)\n",
    "        \n",
    "        self.conv1 = nn.Conv2d(in_channels=3, out_channels=6, kernel_size=4)\n",
    "        self.conv2 = nn.Conv2d(in_channels=6, out_channels=12, kernel_size=4)\n",
    "        self.conv3 = nn.Conv2d(in_channels=12, out_channels=14, kernel_size=4)\n",
    "        self.conv4 = nn.Conv2d(in_channels=14, out_channels=16, kernel_size=4)\n",
    "        self.conv5 = nn.Conv2d(in_channels=16, out_channels=20, kernel_size=4)\n",
    "        \n",
    "        self.fc1 = nn.Linear(in_features=20*4*4, out_features=250)\n",
    "        self.fc2= nn.Linear(in_features=250, out_features=200)\n",
    "        self.fc3= nn.Linear(in_features=200, out_features=50)\n",
    "        self.fc4= nn.Linear(in_features=50, out_features=10)\n",
    "        self.fc5= nn.Linear(in_features=10, out_features=2)\n",
    "        \n",
    "    def forward(self, x):\n",
    "        x = self.pool(F.relu(self.conv1(x)))\n",
    "        x = self.pool(F.relu(self.conv2(x)))\n",
    "        x = self.pool(F.relu(self.conv3(x)))\n",
    "        x = self.pool(F.relu(self.conv4(x)))\n",
    "        x = self.pool(F.relu(self.conv5(x)))\n",
    "        \n",
    "        x = x.reshape(-1, 20 * 4 * 4)\n",
    "        x = self.dropout(F.relu(self.fc1(x)))\n",
    "        x = self.dropout(F.relu(self.fc2(x)))\n",
    "        x = self.dropout(F.relu(self.fc3(x)))\n",
    "        x = self.dropout(F.relu(self.fc4(x)))\n",
    "        x = self.fc5(x)\n",
    "        return x\n",
    "    \n",
    "net = Model().to(args['device'])\n",
    "\n",
    "print(net)"
   ]
  },
  {
   "cell_type": "code",
   "execution_count": 190,
   "id": "761bb46b",
   "metadata": {},
   "outputs": [],
   "source": [
    "criterion = nn.CrossEntropyLoss()\n",
    "optimizer = optim.Adam(net.parameters(), lr=0.001, weight_decay = 1e-5)"
   ]
  },
  {
   "cell_type": "code",
   "execution_count": 194,
   "id": "e224e9d9",
   "metadata": {},
   "outputs": [
    {
     "name": "stdout",
     "output_type": "stream",
     "text": [
      "Epoch: 0 Loss: 0.6902781391143799 Accuracy:52.15%\n",
      "Epoch: 1 Loss: 0.6836738672256469 Accuracy:57.15%\n",
      "Epoch: 2 Loss: 0.6662602910995483 Accuracy:63.5%\n",
      "Epoch: 3 Loss: 0.6906118755340576 Accuracy:54.05%\n",
      "Epoch: 4 Loss: 0.6667960734367371 Accuracy:62.35000000000001%\n",
      "Epoch: 5 Loss: 0.6404072465896606 Accuracy:65.2%\n",
      "Epoch: 6 Loss: 0.6089389753341675 Accuracy:67.60000000000001%\n",
      "Epoch: 7 Loss: 0.5883030045032501 Accuracy:68.95%\n",
      "Epoch: 8 Loss: 0.5752456364631653 Accuracy:69.95%\n",
      "Epoch: 9 Loss: 0.5470855102539063 Accuracy:74.0%\n",
      "Epoch: 10 Loss: 0.539686381816864 Accuracy:72.39999999999999%\n",
      "Epoch: 11 Loss: 0.5079318909645081 Accuracy:75.44999999999999%\n",
      "Epoch: 12 Loss: 0.48352094984054567 Accuracy:78.60000000000001%\n",
      "Epoch: 13 Loss: 0.4540327730178833 Accuracy:79.10000000000001%\n",
      "Epoch: 14 Loss: 0.44797103881835937 Accuracy:79.4%\n",
      "Finished training\n"
     ]
    }
   ],
   "source": [
    "net.train()\n",
    "\n",
    "for epoch in range(15):\n",
    "    total_correct = 0.0\n",
    "    running_loss = 0.0\n",
    "    for i, (inputs, labels) in enumerate(train_set):\n",
    "        inputs, labels = inputs.to(args['device']), labels.to(args['device'])\n",
    "        output = net(inputs)\n",
    "        output_idx = torch.argmax(output, dim=1)\n",
    "        total_correct += (labels == output_idx).sum().item()\n",
    "        optimizer.zero_grad()\n",
    "        loss = criterion(output, labels)\n",
    "        running_loss += loss.item() * inputs.size(0)\n",
    "        loss.backward()\n",
    "        optimizer.step()\n",
    "        \n",
    "    print(f'Epoch: {epoch} Loss: {running_loss/num_tr} Accuracy:{(total_correct/num_tr)*100}%')\n",
    "    \n",
    "print('Finished training')"
   ]
  }
 ],
 "metadata": {
  "kernelspec": {
   "display_name": "Python 3",
   "language": "python",
   "name": "python3"
  },
  "language_info": {
   "codemirror_mode": {
    "name": "ipython",
    "version": 3
   },
   "file_extension": ".py",
   "mimetype": "text/x-python",
   "name": "python",
   "nbconvert_exporter": "python",
   "pygments_lexer": "ipython3",
   "version": "3.8.8"
  }
 },
 "nbformat": 4,
 "nbformat_minor": 5
}
